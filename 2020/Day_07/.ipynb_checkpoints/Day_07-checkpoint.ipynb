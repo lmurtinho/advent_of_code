{
 "cells": [
  {
   "cell_type": "code",
   "execution_count": 1,
   "metadata": {},
   "outputs": [
    {
     "name": "stdout",
     "output_type": "stream",
     "text": [
      "Answer 1: 211\n",
      "Answer 2: 12414\n"
     ]
    }
   ],
   "source": [
    "import re\n",
    "\n",
    "with open(\"07_input.txt\", \"r\") as f:\n",
    "    s = f.read().split('\\n')[:-1]\n",
    "\n",
    "# How many bag colors can contain my bag?\n",
    "MY_BAG = 'shiny gold bag'\n",
    "bag_types = [re.findall(r'\\w* \\w* bag', t) for t in s]\n",
    "bags = [b[0] for b in bag_types if MY_BAG in b[1:]]\n",
    "used_bags = []\n",
    "ans1 = 0\n",
    "while bags:\n",
    "    bag = bags.pop()\n",
    "    if bag not in used_bags:\n",
    "        ans1 += 1\n",
    "        used_bags.append(bag)\n",
    "        new_bags = [b[0] for b in bag_types if bag in b[1:]]\n",
    "        bags += new_bags\n",
    "print(\"Answer 1:\", ans1)\n",
    "\n",
    "# How many bags required in my bag?\n",
    "bag_and_numbers = [re.findall(r'\\d* \\w* \\w* bag', t) for t in s]\n",
    "bag_names = [re.findall(r'^\\w* \\w* bag', t) for t in s]\n",
    "bag_dict = {b[0]: bn for b, bn in zip(bag_names, bag_and_numbers)}\n",
    "daughters = [('1 shiny gold bag', 1)]\n",
    "ans2 = -1\n",
    "while daughters:\n",
    "    daughter, old_n = daughters.pop(0)\n",
    "    if daughter[0].isdigit():\n",
    "        new_n = int(daughter.split()[0])\n",
    "        old_n *= new_n\n",
    "        ans2 += old_n\n",
    "        txt = ' '.join(daughter.split()[1:])\n",
    "        daughters += [(d, old_n) for d in bag_dict[txt]]\n",
    "print(\"Answer 2:\", ans2)"
   ]
  }
 ],
 "metadata": {
  "kernelspec": {
   "display_name": "Python 3",
   "language": "python",
   "name": "python3"
  },
  "language_info": {
   "codemirror_mode": {
    "name": "ipython",
    "version": 3
   },
   "file_extension": ".py",
   "mimetype": "text/x-python",
   "name": "python",
   "nbconvert_exporter": "python",
   "pygments_lexer": "ipython3",
   "version": "3.7.3"
  }
 },
 "nbformat": 4,
 "nbformat_minor": 4
}
