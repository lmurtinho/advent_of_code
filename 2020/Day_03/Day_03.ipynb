{
 "cells": [
  {
   "cell_type": "markdown",
   "metadata": {},
   "source": [
    "# Day 3 - Running down the hill\n",
    "\n",
    "In the input, each # represents a tree we must try to avoid when running down a hill on a toboggan that maintains the same slope pattern (in terms of number of shifts down and right per step) until the travel is over. The main goal is to check how many trees the toboggan will run into when following a given slope pattern."
   ]
  },
  {
   "cell_type": "code",
   "execution_count": 1,
   "metadata": {},
   "outputs": [
    {
     "name": "stdout",
     "output_type": "stream",
     "text": [
      "178\n",
      "3492520200\n"
     ]
    }
   ],
   "source": [
    "# get input\n",
    "with open(\"03_input.txt\", \"r\") as f:\n",
    "    s = f.read().split(\"\\n\")[:-1]\n",
    "    \n",
    "# get number of chars per line (assuming all are the same!)\n",
    "len_line = len(s[0])\n",
    "\n",
    "# get positions of trees per line\n",
    "trees = [tuple(i for i in range(len_line) if l[i] == \"#\")\n",
    "         for l in s]\n",
    "\n",
    "def check_n_trees(slope_right, slope_down, trees, len_line):\n",
    "    \"\"\"\n",
    "    checks how many trees a given slope pattern will run into.\n",
    "    \"\"\"\n",
    "    \n",
    "    # get number of lines\n",
    "    n_lines = len(trees)\n",
    "    \n",
    "    # remove lines that will be skipped according to slope_down\n",
    "    trees = [trees[i] for i in range(n_lines) if not (i % slope_down)]\n",
    "    \n",
    "    # recalculate number of lines\n",
    "    n_lines = len(trees)\n",
    "    \n",
    "    # get positions that the sled will occupy per line\n",
    "    positions = [i * slope_right for i in range(n_lines)]\n",
    "    path_position = [i % len_line for i in positions]\n",
    "    \n",
    "    # get number of trees the sled runs into\n",
    "    found_tree = [path_position[i] in trees[i] for i in range(n_lines)]\n",
    "    return sum(found_tree)\n",
    "\n",
    "# question 1: move 3 steps to the right and 1 down\n",
    "ans1 = check_n_trees(3, 1, trees, len_line)\n",
    "print(ans1)\n",
    "\n",
    "# question 2: multiply the result of different slope patterns\n",
    "slopes = [(1,1),(3,1),(5,1),(7,1),(1,2)]\n",
    "results = [check_n_trees(slope[0], slope[1], trees, len_line)\n",
    "           for slope in slopes]\n",
    "ans2 = 1\n",
    "for result in results:\n",
    "    ans2 *= result\n",
    "print(ans2)"
   ]
  }
 ],
 "metadata": {
  "kernelspec": {
   "display_name": "Python 3",
   "language": "python",
   "name": "python3"
  },
  "language_info": {
   "codemirror_mode": {
    "name": "ipython",
    "version": 3
   },
   "file_extension": ".py",
   "mimetype": "text/x-python",
   "name": "python",
   "nbconvert_exporter": "python",
   "pygments_lexer": "ipython3",
   "version": "3.7.3"
  }
 },
 "nbformat": 4,
 "nbformat_minor": 4
}
