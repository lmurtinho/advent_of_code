{
 "cells": [
  {
   "cell_type": "code",
   "execution_count": 1,
   "metadata": {},
   "outputs": [
    {
     "data": {
      "text/plain": [
       "202"
      ]
     },
     "execution_count": 1,
     "metadata": {},
     "output_type": "execute_result"
    }
   ],
   "source": [
    "import re\n",
    "\n",
    "with open(\"04_input.txt\", \"r\") as f:\n",
    "    s = f.read()\n",
    "    \n",
    "values = s.split('\\n\\n')\n",
    "\n",
    "fields = [set(re.findall(r'(\\w*):', value)) for value in values]\n",
    "\n",
    "valid = 0\n",
    "for field in fields:\n",
    "    if len(field) == 8:\n",
    "        valid += 1\n",
    "    elif len(field) == 7:\n",
    "        valid += ('cid' not in field)\n",
    "valid"
   ]
  },
  {
   "cell_type": "code",
   "execution_count": 2,
   "metadata": {},
   "outputs": [
    {
     "data": {
      "text/plain": [
       "137"
      ]
     },
     "execution_count": 2,
     "metadata": {},
     "output_type": "execute_result"
    }
   ],
   "source": [
    "def check_year(s, string, min_year, max_year):\n",
    "    results = re.search(string + r':(\\d{4})\\b', s)\n",
    "    if results:\n",
    "        year = int(results.groups()[0])\n",
    "        return (year >= min_year) and (year <= max_year)\n",
    "    else:\n",
    "        return False\n",
    "\n",
    "def check_byr(s):\n",
    "    return check_year(s, 'byr', 1920, 2002)\n",
    "\n",
    "def check_iyr(s):\n",
    "    return check_year(s, 'iyr', 2010, 2020)\n",
    "\n",
    "def check_eyr(s):\n",
    "    return check_year(s, 'eyr', 2020, 2030)\n",
    "\n",
    "def check_hgt(s):\n",
    "    results = re.search(r'hgt:(\\d*)(cm|in)\\b', s)\n",
    "    if results:\n",
    "        n = int(results.groups()[0])\n",
    "        unit = results.groups()[1]\n",
    "        if unit == 'cm':\n",
    "            return (n >= 150) and (n <= 193)\n",
    "        else:\n",
    "            return (n >= 59) and (n <= 76)\n",
    "    else:\n",
    "        return False\n",
    "\n",
    "def check_hcl(s):\n",
    "    return bool(re.search(r'hcl:#[\\dabcdef]{6}\\b', s))\n",
    "\n",
    "def check_ecl(s):\n",
    "        valids = ['amb', 'blu', 'brn', 'gry', 'grn', 'hzl', 'oth']\n",
    "        results = re.search(r'ecl:(\\w*)\\b', s)\n",
    "        if results:\n",
    "            val = results.groups()[0]\n",
    "            return val in valids\n",
    "        else:\n",
    "            return False\n",
    "\n",
    "def check_pid(s):\n",
    "    return bool(re.search(r'pid:\\d{9}\\b', s))\n",
    "\n",
    "def check_passport(s):\n",
    "    return all((check_byr(s), check_iyr(s), check_eyr(s),\n",
    "               check_hgt(s), check_hcl(s), check_ecl(s),\n",
    "               check_pid(s)))\n",
    "\n",
    "sum([check_passport(i) for i in values])"
   ]
  }
 ],
 "metadata": {
  "kernelspec": {
   "display_name": "Python 3",
   "language": "python",
   "name": "python3"
  },
  "language_info": {
   "codemirror_mode": {
    "name": "ipython",
    "version": 3
   },
   "file_extension": ".py",
   "mimetype": "text/x-python",
   "name": "python",
   "nbconvert_exporter": "python",
   "pygments_lexer": "ipython3",
   "version": "3.7.3"
  }
 },
 "nbformat": 4,
 "nbformat_minor": 4
}
