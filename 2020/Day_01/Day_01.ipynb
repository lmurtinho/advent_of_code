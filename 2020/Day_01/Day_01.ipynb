{
 "cells": [
  {
   "cell_type": "code",
   "execution_count": 2,
   "metadata": {},
   "outputs": [
    {
     "name": "stdout",
     "output_type": "stream",
     "text": [
      "1014171\n",
      "46584630\n"
     ]
    }
   ],
   "source": [
    "# get input (list of integers)\n",
    "with open(\"01_input.txt\", \"r\") as f:\n",
    "    s = f.read()\n",
    "s = s.split('\\n')[:-1]\n",
    "s = [int(i) for i in s]\n",
    "\n",
    "# task 1: find the multiplication of \n",
    "# 2 numbers that sum up to NUMBER\n",
    "n = len(s)\n",
    "NUMBER = 2020\n",
    "found = False\n",
    "for i in range(n):\n",
    "    if found:\n",
    "        break\n",
    "    for j in range(i+1,n):\n",
    "        if s[i] + s[j] == NUMBER:\n",
    "            i_1, i_2 = s[i],s[j]\n",
    "            found = True\n",
    "            break\n",
    "print(i_1 * i_2)\n",
    "\n",
    "# task 2: find the multiplication of \n",
    "# 3 numbers that sum up to NUMBER\n",
    "found = False\n",
    "for i in range(n):\n",
    "    if found:\n",
    "        break\n",
    "    for j in range(i+1,n):\n",
    "        for k in range(j+1,n):\n",
    "            if s[i] + s[j] + s[k] == NUMBER:\n",
    "                i_1, i_2, i_3 = s[i],s[j],s[k]\n",
    "                found = True\n",
    "                break\n",
    "print(i_1 * i_2 * i_3)"
   ]
  }
 ],
 "metadata": {
  "kernelspec": {
   "display_name": "Python 3",
   "language": "python",
   "name": "python3"
  },
  "language_info": {
   "codemirror_mode": {
    "name": "ipython",
    "version": 3
   },
   "file_extension": ".py",
   "mimetype": "text/x-python",
   "name": "python",
   "nbconvert_exporter": "python",
   "pygments_lexer": "ipython3",
   "version": "3.7.3"
  }
 },
 "nbformat": 4,
 "nbformat_minor": 4
}
