{
 "cells": [
  {
   "cell_type": "code",
   "execution_count": 37,
   "metadata": {},
   "outputs": [
    {
     "name": "stdout",
     "output_type": "stream",
     "text": [
      "410\n",
      "694\n"
     ]
    }
   ],
   "source": [
    "import re\n",
    "\n",
    "# each line is a rule\n",
    "with open(\"02_input.txt\", \"r\") as f:\n",
    "    rules = f.read().split('\\n')[:-1]\n",
    "\n",
    "# all rules are of the type d-d c: w\n",
    "# d and d are numbers (may have more than one digit)\n",
    "# c is a char\n",
    "# w is a word (a sequence of chars)\n",
    "rules = [re.match(r'(\\d*)-(\\d*) (\\w): (\\w*)', i).groups()\n",
    "         for i in rules]\n",
    "rules = [(int(i[0]), int(i[1]), i[2], i[3]) for i in rules]\n",
    "\n",
    "# first rules: the number of occurrences of the letter in i[2] \n",
    "# must be between i[0] and i[1]\n",
    "ans1 = 0\n",
    "for i in rules:\n",
    "    count = i[3].count(i[2])\n",
    "    ans1 += ((count >= i[0]) and (count <= i[1]))\n",
    "print(ans1)\n",
    "\n",
    "# second interpretation: the letter must be in exactly one of \n",
    "# the two possible positions i[0] and i[1]\n",
    "ans2 = 0\n",
    "for i in rules:\n",
    "    chars = i[3][i[0]-1] + i[3][i[1]-1]\n",
    "    ans2 += (chars.count(i[2]) == 1)\n",
    "print(ans2)"
   ]
  }
 ],
 "metadata": {
  "kernelspec": {
   "display_name": "Python 3",
   "language": "python",
   "name": "python3"
  },
  "language_info": {
   "codemirror_mode": {
    "name": "ipython",
    "version": 3
   },
   "file_extension": ".py",
   "mimetype": "text/x-python",
   "name": "python",
   "nbconvert_exporter": "python",
   "pygments_lexer": "ipython3",
   "version": "3.7.3"
  }
 },
 "nbformat": 4,
 "nbformat_minor": 4
}
