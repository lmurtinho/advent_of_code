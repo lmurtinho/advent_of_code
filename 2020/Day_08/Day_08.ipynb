{
 "cells": [
  {
   "cell_type": "code",
   "execution_count": 1,
   "metadata": {},
   "outputs": [
    {
     "name": "stdout",
     "output_type": "stream",
     "text": [
      "1563\n",
      "767\n"
     ]
    }
   ],
   "source": [
    "with open(\"input_08.txt\", \"r\") as f:\n",
    "    s = f.read().split('\\n')[:-1]\n",
    "\n",
    "# QUESTION 1: cum value before cycling\n",
    "ans1 = 0\n",
    "n = 0\n",
    "done = set([])\n",
    "\n",
    "while n not in done:\n",
    "    done.add(n)\n",
    "    txt, val = s[n].split()\n",
    "    val = int(val)\n",
    "    if txt == 'jmp':\n",
    "        n += val\n",
    "    else:\n",
    "        n += 1\n",
    "        if txt == 'acc':\n",
    "            ans1 += val\n",
    "print(ans1)\n",
    "\n",
    "# QUESTION 2: cum value in termination (after fixed cycling)\n",
    "def swap_txt(txt):\n",
    "    if 'jmp' in txt:\n",
    "        return txt.replace('jmp', 'nop')\n",
    "    elif 'nop' in txt:\n",
    "        return txt.replace('nop', 'jmp')\n",
    "    else:\n",
    "        return txt\n",
    "\n",
    "to_check = [j for j in done if 'acc' not in s[j]]\n",
    "\n",
    "for i in to_check:\n",
    "    ans2 = 0\n",
    "    n = 0\n",
    "    s[i] = swap_txt(s[i])\n",
    "    done = set([])\n",
    "    while (n not in done) and (n >= 0) and (n < len(s)):\n",
    "        done.add(n)\n",
    "        txt, val = s[n].split()\n",
    "        val = int(val)\n",
    "        if txt == 'jmp':\n",
    "            n += val\n",
    "        else:\n",
    "            n += 1\n",
    "            if txt == 'acc':\n",
    "                ans2 += val\n",
    "    if n == len(s):\n",
    "        break\n",
    "    else:\n",
    "        s[i] = swap_txt(s[i])\n",
    "print(ans2)"
   ]
  }
 ],
 "metadata": {
  "kernelspec": {
   "display_name": "Python 3",
   "language": "python",
   "name": "python3"
  },
  "language_info": {
   "codemirror_mode": {
    "name": "ipython",
    "version": 3
   },
   "file_extension": ".py",
   "mimetype": "text/x-python",
   "name": "python",
   "nbconvert_exporter": "python",
   "pygments_lexer": "ipython3",
   "version": "3.7.3"
  }
 },
 "nbformat": 4,
 "nbformat_minor": 4
}
