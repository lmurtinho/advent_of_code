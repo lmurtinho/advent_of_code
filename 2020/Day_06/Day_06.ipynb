{
 "cells": [
  {
   "cell_type": "code",
   "execution_count": 1,
   "metadata": {},
   "outputs": [
    {
     "name": "stdout",
     "output_type": "stream",
     "text": [
      "6768\n",
      "3489\n",
      "3489\n"
     ]
    }
   ],
   "source": [
    "with open(\"06_input.txt\", \"r\") as f:\n",
    "    s = f.read().split('\\n\\n')[:-1]\n",
    "\n",
    "# count if any person in a list answered yes\n",
    "n_yes = [len(set(list(t.replace('\\n', ''))))\n",
    "         for t in s]\n",
    "ans1 = sum(n_yes)\n",
    "print(ans1)\n",
    "\n",
    "# n_persons = [t.count('\\n') + 1 for t in s]\n",
    "\n",
    "# count if all persons in a list answered yes\n",
    "yesses = [len([y for y in set(list(t.replace('\\n', '')))\n",
    "               if t.count(y) == t.count('\\n') + 1]) \n",
    "          for t in s]\n",
    "print(sum(yesses))\n",
    "\n",
    "ans2 = 0\n",
    "for t in s:\n",
    "    yes = set(list(t.replace('\\n', '')))\n",
    "    yes_all = [y for y in yes if t.count(y) == t.count('\\n') + 1]\n",
    "    ans2 += len(yes_all)\n",
    "print(ans2)"
   ]
  }
 ],
 "metadata": {
  "kernelspec": {
   "display_name": "Python 3",
   "language": "python",
   "name": "python3"
  },
  "language_info": {
   "codemirror_mode": {
    "name": "ipython",
    "version": 3
   },
   "file_extension": ".py",
   "mimetype": "text/x-python",
   "name": "python",
   "nbconvert_exporter": "python",
   "pygments_lexer": "ipython3",
   "version": "3.7.3"
  }
 },
 "nbformat": 4,
 "nbformat_minor": 4
}
