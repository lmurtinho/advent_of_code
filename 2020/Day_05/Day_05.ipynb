{
 "cells": [
  {
   "cell_type": "code",
   "execution_count": 1,
   "metadata": {},
   "outputs": [
    {
     "data": {
      "text/plain": [
       "(866, 583)"
      ]
     },
     "execution_count": 1,
     "metadata": {},
     "output_type": "execute_result"
    }
   ],
   "source": [
    "with open(\"05_input.txt\", \"r\") as f:\n",
    "    s = f.read().split('\\n')[:-1]\n",
    "\n",
    "def find_position(low, high, s, low_ind):\n",
    "    if low == high:\n",
    "        return low\n",
    "    n = high - low + 1\n",
    "    mid = low + (n//2) - 1\n",
    "    if s[0] == low_ind:\n",
    "        return find_position(low, mid, s[1:], low_ind)\n",
    "    else:\n",
    "        return find_position(mid+1, high, s[1:], low_ind)\n",
    "\n",
    "def find_seat(s, split_pos=7, factor=8, row_high=127, col_high=7,\n",
    "             low_ind_row='F', low_ind_col='L'):\n",
    "    row = find_position(0, row_high, s, low_ind_row)\n",
    "    col = find_position(0, col_high, s[split_pos:], low_ind_col)\n",
    "    return row, col, row * factor + col\n",
    "\n",
    "ids = [find_seat(p)[2] for p in s]\n",
    "ans1 = max(ids)\n",
    "\n",
    "sorted_ids = sorted(ids)\n",
    "for i in range(len(sorted_ids)):\n",
    "    if sorted_ids[i+1] != sorted_ids[i] + 1:\n",
    "        break\n",
    "ans2 = sorted_ids[i] + 1\n",
    "\n",
    "ans1, ans2"
   ]
  }
 ],
 "metadata": {
  "kernelspec": {
   "display_name": "Python 3",
   "language": "python",
   "name": "python3"
  },
  "language_info": {
   "codemirror_mode": {
    "name": "ipython",
    "version": 3
   },
   "file_extension": ".py",
   "mimetype": "text/x-python",
   "name": "python",
   "nbconvert_exporter": "python",
   "pygments_lexer": "ipython3",
   "version": "3.7.3"
  }
 },
 "nbformat": 4,
 "nbformat_minor": 4
}
