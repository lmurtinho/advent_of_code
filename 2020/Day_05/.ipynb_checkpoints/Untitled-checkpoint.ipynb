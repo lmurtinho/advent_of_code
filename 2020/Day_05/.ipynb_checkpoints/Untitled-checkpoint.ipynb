{
 "cells": [
  {
   "cell_type": "code",
   "execution_count": 1,
   "metadata": {},
   "outputs": [],
   "source": [
    "import numpy as np"
   ]
  },
  {
   "cell_type": "code",
   "execution_count": 3,
   "metadata": {},
   "outputs": [],
   "source": [
    "gen = np.random.default_rng()"
   ]
  },
  {
   "cell_type": "code",
   "execution_count": 5,
   "metadata": {},
   "outputs": [
    {
     "data": {
      "text/plain": [
       "6"
      ]
     },
     "execution_count": 5,
     "metadata": {},
     "output_type": "execute_result"
    }
   ],
   "source": [
    "gen.integers(10)"
   ]
  },
  {
   "cell_type": "code",
   "execution_count": 6,
   "metadata": {},
   "outputs": [],
   "source": [
    "i = [gen.integers(10)]"
   ]
  },
  {
   "cell_type": "code",
   "execution_count": 7,
   "metadata": {},
   "outputs": [
    {
     "data": {
      "text/plain": [
       "[1]"
      ]
     },
     "execution_count": 7,
     "metadata": {},
     "output_type": "execute_result"
    }
   ],
   "source": [
    "i"
   ]
  },
  {
   "cell_type": "code",
   "execution_count": 10,
   "metadata": {},
   "outputs": [
    {
     "data": {
      "text/plain": [
       "array([ 1,  2,  3,  4,  5,  6,  7,  8,  9, 10])"
      ]
     },
     "execution_count": 10,
     "metadata": {},
     "output_type": "execute_result"
    }
   ],
   "source": [
    "integers = np.arange(1,11)\n",
    "integers"
   ]
  },
  {
   "cell_type": "code",
   "execution_count": 26,
   "metadata": {},
   "outputs": [],
   "source": []
  },
  {
   "cell_type": "code",
   "execution_count": 32,
   "metadata": {},
   "outputs": [
    {
     "name": "stdout",
     "output_type": "stream",
     "text": [
      "[7]\n",
      "[7]\n",
      "[1, 2, 3, 4, 10]\n"
     ]
    },
    {
     "data": {
      "text/plain": [
       "[7, 4]"
      ]
     },
     "execution_count": 32,
     "metadata": {},
     "output_type": "execute_result"
    }
   ],
   "source": [
    "seq = [gen.choice(integers)]\n",
    "print(seq)\n",
    "limits = seq[-2:]\n",
    "print(limits)\n",
    "candidates = []\n",
    "for c in integers:\n",
    "    add = True\n",
    "    for l in limits:\n",
    "        if abs(c - l) <= 2:\n",
    "            add = False\n",
    "            break\n",
    "    if add:\n",
    "        candidates += [c]\n",
    "print(candidates)\n",
    "seq += [gen.choice(candidates)]\n",
    "seq"
   ]
  },
  {
   "cell_type": "code",
   "execution_count": 33,
   "metadata": {},
   "outputs": [
    {
     "name": "stdout",
     "output_type": "stream",
     "text": [
      "[7, 4]\n",
      "[7, 4]\n",
      "[1, 10]\n"
     ]
    },
    {
     "data": {
      "text/plain": [
       "[7, 4, 1]"
      ]
     },
     "execution_count": 33,
     "metadata": {},
     "output_type": "execute_result"
    }
   ],
   "source": [
    "print(seq)\n",
    "limits = seq[-2:]\n",
    "print(limits)\n",
    "candidates = []\n",
    "for c in integers:\n",
    "    add = True\n",
    "    for l in limits:\n",
    "        if abs(c - l) <= 2:\n",
    "            add = False\n",
    "            break\n",
    "    if add:\n",
    "        candidates += [c]\n",
    "print(candidates)\n",
    "seq += [gen.choice(candidates)]\n",
    "seq"
   ]
  },
  {
   "cell_type": "code",
   "execution_count": 34,
   "metadata": {},
   "outputs": [
    {
     "name": "stdout",
     "output_type": "stream",
     "text": [
      "[7, 4, 1]\n",
      "[4, 1]\n",
      "[7, 8, 9, 10]\n"
     ]
    },
    {
     "data": {
      "text/plain": [
       "[7, 4, 1, 9]"
      ]
     },
     "execution_count": 34,
     "metadata": {},
     "output_type": "execute_result"
    }
   ],
   "source": [
    "print(seq)\n",
    "limits = seq[-2:]\n",
    "print(limits)\n",
    "candidates = []\n",
    "for c in integers:\n",
    "    add = True\n",
    "    for l in limits:\n",
    "        if abs(c - l) <= 2:\n",
    "            add = False\n",
    "            break\n",
    "    if add:\n",
    "        candidates += [c]\n",
    "print(candidates)\n",
    "seq += [gen.choice(candidates)]\n",
    "seq"
   ]
  },
  {
   "cell_type": "code",
   "execution_count": 35,
   "metadata": {},
   "outputs": [
    {
     "name": "stdout",
     "output_type": "stream",
     "text": [
      "[7, 4, 1, 9]\n",
      "[1, 9]\n",
      "[4, 5, 6]\n"
     ]
    },
    {
     "data": {
      "text/plain": [
       "[7, 4, 1, 9, 5]"
      ]
     },
     "execution_count": 35,
     "metadata": {},
     "output_type": "execute_result"
    }
   ],
   "source": [
    "print(seq)\n",
    "limits = seq[-2:]\n",
    "print(limits)\n",
    "candidates = []\n",
    "for c in integers:\n",
    "    add = True\n",
    "    for l in limits:\n",
    "        if abs(c - l) <= 2:\n",
    "            add = False\n",
    "            break\n",
    "    if add:\n",
    "        candidates += [c]\n",
    "print(candidates)\n",
    "seq += [gen.choice(candidates)]\n",
    "seq"
   ]
  },
  {
   "cell_type": "code",
   "execution_count": 36,
   "metadata": {},
   "outputs": [
    {
     "name": "stdout",
     "output_type": "stream",
     "text": [
      "[7, 4, 1, 9, 5]\n",
      "[9, 5]\n",
      "[1, 2]\n"
     ]
    },
    {
     "data": {
      "text/plain": [
       "[7, 4, 1, 9, 5, 1]"
      ]
     },
     "execution_count": 36,
     "metadata": {},
     "output_type": "execute_result"
    }
   ],
   "source": [
    "print(seq)\n",
    "limits = seq[-2:]\n",
    "print(limits)\n",
    "candidates = []\n",
    "for c in integers:\n",
    "    add = True\n",
    "    for l in limits:\n",
    "        if abs(c - l) <= 2:\n",
    "            add = False\n",
    "            break\n",
    "    if add:\n",
    "        candidates += [c]\n",
    "print(candidates)\n",
    "seq += [gen.choice(candidates)]\n",
    "seq"
   ]
  },
  {
   "cell_type": "code",
   "execution_count": 54,
   "metadata": {},
   "outputs": [
    {
     "data": {
      "text/plain": [
       "([5], [1, 2, 3, 4, 6, 7, 8, 9, 10])"
      ]
     },
     "execution_count": 54,
     "metadata": {},
     "output_type": "execute_result"
    }
   ],
   "source": [
    "remaining = [i for i in range(1,11)]\n",
    "s = gen.choice(remaininig)\n",
    "remaining.remove(s)\n",
    "seq = [s]\n",
    "seq, remaining"
   ]
  },
  {
   "cell_type": "code",
   "execution_count": 55,
   "metadata": {},
   "outputs": [
    {
     "name": "stdout",
     "output_type": "stream",
     "text": [
      "[5]\n",
      "[5]\n",
      "[1, 2, 8, 9, 10]\n"
     ]
    },
    {
     "data": {
      "text/plain": [
       "([5, 8], [1, 2, 3, 4, 6, 7, 9, 10])"
      ]
     },
     "execution_count": 55,
     "metadata": {},
     "output_type": "execute_result"
    }
   ],
   "source": [
    "print(seq)\n",
    "limits = seq[-2:]\n",
    "print(limits)\n",
    "candidates = []\n",
    "for c in remaining:\n",
    "    add = True\n",
    "    for l in limits:\n",
    "        if abs(c - l) <= 2:\n",
    "            add = False\n",
    "            break\n",
    "    if add:\n",
    "        candidates += [c]\n",
    "print(candidates)\n",
    "s = gen.choice(candidates)\n",
    "seq += [s]\n",
    "remaining.remove(s)\n",
    "seq, remaining"
   ]
  },
  {
   "cell_type": "code",
   "execution_count": 56,
   "metadata": {},
   "outputs": [
    {
     "name": "stdout",
     "output_type": "stream",
     "text": [
      "[5, 8]\n",
      "[5, 8]\n",
      "[1, 2]\n"
     ]
    },
    {
     "data": {
      "text/plain": [
       "([5, 8, 2], [1, 3, 4, 6, 7, 9, 10])"
      ]
     },
     "execution_count": 56,
     "metadata": {},
     "output_type": "execute_result"
    }
   ],
   "source": [
    "print(seq)\n",
    "limits = seq[-2:]\n",
    "print(limits)\n",
    "candidates = []\n",
    "for c in remaining:\n",
    "    add = True\n",
    "    for l in limits:\n",
    "        if abs(c - l) <= 2:\n",
    "            add = False\n",
    "            break\n",
    "    if add:\n",
    "        candidates += [c]\n",
    "print(candidates)\n",
    "s = gen.choice(candidates)\n",
    "seq += [s]\n",
    "remaining.remove(s)\n",
    "seq, remaining"
   ]
  },
  {
   "cell_type": "code",
   "execution_count": 58,
   "metadata": {},
   "outputs": [
    {
     "name": "stdout",
     "output_type": "stream",
     "text": [
      "[5, 8, 2]\n",
      "[5, 8]\n",
      "[1]\n"
     ]
    },
    {
     "data": {
      "text/plain": [
       "([5, 8, 2, 1], [3, 4, 6, 7, 9, 10])"
      ]
     },
     "execution_count": 58,
     "metadata": {},
     "output_type": "execute_result"
    }
   ],
   "source": [
    "print(seq)\n",
    "limits = seq[:2]\n",
    "print(limits)\n",
    "candidates = []\n",
    "for c in remaining:\n",
    "    add = True\n",
    "    for l in limits:\n",
    "        if abs(c - l) <= 2:\n",
    "            add = False\n",
    "            break\n",
    "    if add:\n",
    "        candidates += [c]\n",
    "print(candidates)\n",
    "s = gen.choice(candidates)\n",
    "seq += [s]\n",
    "remaining.remove(s)\n",
    "seq, remaining"
   ]
  },
  {
   "cell_type": "code",
   "execution_count": 94,
   "metadata": {},
   "outputs": [
    {
     "name": "stdout",
     "output_type": "stream",
     "text": [
      "sequence: [10]\n",
      "remaining: [1, 2, 3, 4, 5, 6, 7, 8, 9]\n",
      "top: False, limits: [10]\n",
      "candidates: [1, 2, 3, 4, 5, 6, 7]\n",
      "[1, 2, 3, 4, 5, 6, 7]\n",
      "bottom candidates: [1, 2, 3, 4, 5, 6, 7]\n",
      "sequence: [10, 7]\n",
      "remaining: [1, 2, 3, 4, 5, 6, 8, 9]\n",
      "top: False, limits: [10, 7]\n",
      "candidates: []\n",
      "[]\n",
      "bottom candidates: []\n",
      "remaining: [1, 2, 3, 4, 5, 6, 8, 9]\n",
      "top: True, limits: [10, 7]\n",
      "candidates: []\n",
      "top candidates: []\n"
     ]
    },
    {
     "data": {
      "text/plain": [
       "[10, 7]"
      ]
     },
     "execution_count": 94,
     "metadata": {},
     "output_type": "execute_result"
    }
   ],
   "source": [
    "def get_candidates(seq, n, s, top=False):\n",
    "    r = [i for i in range(1,n+1) if i not in seq]\n",
    "    print(\"remaining:\", r)\n",
    "    if top:\n",
    "        ls = seq[:s]\n",
    "    else:\n",
    "        ls = seq[-s:]\n",
    "    print(\"top: {}, limits: {}\".format(top, ls))\n",
    "    cs = []\n",
    "    for c in r:\n",
    "        add = True\n",
    "        for l in ls:\n",
    "            if abs(c - l) <= s:\n",
    "                add = False\n",
    "                break\n",
    "        if add:\n",
    "            cs.append(c)\n",
    "#             print(cs)\n",
    "    print(\"candidates:\", cs)\n",
    "    return cs\n",
    "\n",
    "def build_sequence(n, s, gen=None, seed=None):\n",
    "    if gen is None:\n",
    "        gen = np.random.default_rng(seed)\n",
    "    first = gen.choice(list(range(1,n+1)))\n",
    "    seq = [first]\n",
    "    while len(seq) < n:\n",
    "        print(\"sequence:\", seq)\n",
    "        top = False\n",
    "        candidates = get_candidates(seq, n, s, top)\n",
    "        print(candidates)\n",
    "        print(\"bottom candidates:\", candidates)\n",
    "        if not candidates:\n",
    "            top = True\n",
    "            candidates = get_candidates(seq, n, s, top)\n",
    "            print(\"top candidates:\", candidates)\n",
    "        if candidates:\n",
    "            s = gen.choice(candidates)\n",
    "            if top:\n",
    "                seq = [s] + seq\n",
    "            else:\n",
    "                seq += [s]\n",
    "        else:\n",
    "            return seq\n",
    "    return seq\n",
    "            \n",
    "build_sequence(10, 2)"
   ]
  },
  {
   "cell_type": "code",
   "execution_count": null,
   "metadata": {},
   "outputs": [],
   "source": [
    "def get_position(seq, c, s):\n",
    "    n = len(seq)\n",
    "    for i in range(n):\n",
    "        check = True\n",
    "        limits = seq[i-s:i+s]\n",
    "#         print(limits)\n",
    "        for l in limits:\n",
    "            if abs(c - l) < s:\n",
    "                check = False\n",
    "                break\n",
    "        if check:\n",
    "            return i\n",
    "    return -1\n",
    "\n",
    "def get_sequence(n, s):\n",
    "    remaining = list(range(1,n+1))\n",
    "    gen.shuffle(remaining)\n",
    "    seq = [remaining.pop()]\n",
    "    while remaining:\n",
    "        for i in range(len(remaining)):\n",
    "            c = remaining[i]\n",
    "            pos = get_position(seq, c, s)\n",
    "get_sequence(10, 2)"
   ]
  },
  {
   "cell_type": "code",
   "execution_count": null,
   "metadata": {},
   "outputs": [],
   "source": [
    "get_position([3, 8], 6, 2)"
   ]
  },
  {
   "cell_type": "code",
   "execution_count": null,
   "metadata": {},
   "outputs": [],
   "source": []
  }
 ],
 "metadata": {
  "kernelspec": {
   "display_name": "Python 3",
   "language": "python",
   "name": "python3"
  },
  "language_info": {
   "codemirror_mode": {
    "name": "ipython",
    "version": 3
   },
   "file_extension": ".py",
   "mimetype": "text/x-python",
   "name": "python",
   "nbconvert_exporter": "python",
   "pygments_lexer": "ipython3",
   "version": "3.7.3"
  }
 },
 "nbformat": 4,
 "nbformat_minor": 4
}
